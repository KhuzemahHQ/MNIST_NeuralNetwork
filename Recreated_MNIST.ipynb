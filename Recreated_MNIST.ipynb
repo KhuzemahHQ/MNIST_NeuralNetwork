{
  "cells": [
    {
      "cell_type": "markdown",
      "metadata": {
        "id": "zpC12Mye-9uZ"
      },
      "source": [
        "#### <b>Introduction</b> \n",
        "By now we have managed to build a multi-layer NN from scratch which is capable of scoring decent accuracy on the Fashion MNIST dataset. In this phase, we are going to shift our focus to the process of data engineering. We will be creating our own dataset, we will have to carry out some preprocessing on this dataset and will use this to evaluate the network from phase 2 (vectorized).\n"
      ]
    },
    {
      "cell_type": "markdown",
      "metadata": {
        "id": "idDbgABDBuvZ"
      },
      "source": [
        "#### <b>PART 1</b>\n",
        "\n",
        "This part is essentially the copy pasting of the codes from cells of your phase 2's notebook (Vectorized) to the cells of this notebook. The intent is to replicate phase 2's network and train (using the same OR different hyperparamters) it so that it can be used to evlaute the novel dataset (that will be part 2 of this phase)"
      ]
    },
    {
      "cell_type": "code",
      "execution_count": 4,
      "metadata": {
        "id": "s0OE_p0V-q-H"
      },
      "outputs": [],
      "source": [
        "# making all the necessary imports here\n",
        "\n",
        "import numpy as np\n",
        "import pandas as pd\n",
        "import time\n",
        "%matplotlib inline\n",
        "import matplotlib.pyplot as plt\n",
        "plt.style.use('seaborn')\n",
        "from IPython.display import Image\n",
        "import pydot\n",
        "from tqdm import tqdm_notebook\n",
        "import seaborn as sns\n",
        "from keras.datasets import fashion_mnist\n",
        "from sklearn.model_selection import train_test_split\n",
        "from keras.utils import np_utils\n",
        "from sklearn.datasets import make_moons\n",
        "from sklearn.linear_model import LinearRegression, LogisticRegression\n",
        "from sklearn.metrics import confusion_matrix,classification_report\n",
        "from google.colab import drive\n",
        "import glob\n",
        "import cv2"
      ]
    },
    {
      "cell_type": "code",
      "execution_count": 5,
      "metadata": {
        "id": "sz6xWsK3B-k4"
      },
      "outputs": [],
      "source": [
        "# This function will be used to plot the confusion matrix at the end of this notebook\n",
        "\n",
        "def plot_confusion_matrix(conf_mat):\n",
        "    classes = ['T-shirt/top','Trouser/pants','Pullover shirt','Dress','Coat','Sandal','Shirt','Sneaker','Bag','Ankle boot']\n",
        "    df_cm = pd.DataFrame(conf_mat,classes,classes)\n",
        "    plt.figure(figsize=(15,9))\n",
        "    sns.set(font_scale=1.4)\n",
        "    sns.heatmap(df_cm, annot=True,annot_kws={\"size\": 16})\n",
        "    plt.show()\n",
        "\n",
        "class_labels = ['T-shirt/top','Trouser/pants','Pullover shirt','Dress','Coat','Sandal','Shirt','Sneaker','Bag','Ankle boot']"
      ]
    },
    {
      "cell_type": "code",
      "execution_count": 6,
      "metadata": {
        "id": "J8vdVLQ0B_bd"
      },
      "outputs": [],
      "source": [
        "# A random number that will be used for plotting purposes\n",
        "\n",
        "rollnumber = 24100107"
      ]
    },
    {
      "cell_type": "markdown",
      "metadata": {
        "id": "MK2xKOxzCqgE"
      },
      "source": [
        "#### __Dataset from Keras Library__\n",
        "\n",
        "The required library has been imported for you as fashion_mnist. Use it to load the train and test data accordingly."
      ]
    },
    {
      "cell_type": "code",
      "execution_count": 7,
      "metadata": {
        "colab": {
          "base_uri": "https://localhost:8080/"
        },
        "id": "2ehOJSGECqOD",
        "outputId": "25ce9176-9067-447e-c58f-55407311c8dd"
      },
      "outputs": [
        {
          "name": "stdout",
          "output_type": "stream",
          "text": [
            "Downloading data from https://storage.googleapis.com/tensorflow/tf-keras-datasets/train-labels-idx1-ubyte.gz\n",
            "32768/29515 [=================================] - 0s 0us/step\n",
            "40960/29515 [=========================================] - 0s 0us/step\n",
            "Downloading data from https://storage.googleapis.com/tensorflow/tf-keras-datasets/train-images-idx3-ubyte.gz\n",
            "26427392/26421880 [==============================] - 0s 0us/step\n",
            "26435584/26421880 [==============================] - 0s 0us/step\n",
            "Downloading data from https://storage.googleapis.com/tensorflow/tf-keras-datasets/t10k-labels-idx1-ubyte.gz\n",
            "16384/5148 [===============================================================================================] - 0s 0us/step\n",
            "Downloading data from https://storage.googleapis.com/tensorflow/tf-keras-datasets/t10k-images-idx3-ubyte.gz\n",
            "4423680/4422102 [==============================] - 0s 0us/step\n",
            "4431872/4422102 [==============================] - 0s 0us/step\n"
          ]
        }
      ],
      "source": [
        "classes = 10\n",
        "\n",
        "# Download Fashion MNIST dataset\n",
        "(x_train, y_train),(x_test, y_test) = fashion_mnist.load_data()\n",
        "\n",
        "# Split the fashion MNIST dataset into train and test sets\n",
        "# Convert y_train and y_test to categorical binary values \n",
        "x_train = x_train/255.0\n",
        "x_test = x_test/255.0\n",
        "\n",
        "y_train = np_utils.to_categorical(y_train)\n",
        "y_test = np_utils.to_categorical(y_test)\n",
        "#Reshape train and test images as one-dimensional arrays\n",
        "\n",
        "x_train = x_train.reshape(60000,784)\n",
        "x_test = x_test.reshape(10000,784)\n",
        "\n",
        "trainX = x_train\n",
        "trainY = y_train\n"
      ]
    },
    {
      "cell_type": "markdown",
      "metadata": {
        "id": "BLeZFElYFINX"
      },
      "source": [
        "#### __NN Implementation__"
      ]
    },
    {
      "cell_type": "code",
      "execution_count": 8,
      "metadata": {
        "id": "rVq8Oq-MD2wZ"
      },
      "outputs": [],
      "source": [
        "class NeuralNetwork():\n",
        "    @staticmethod\n",
        "    def cross_entropy_loss(y_pred, y_true):\n",
        "        return (-np.sum(y_true * np.log(y_pred)))/len(y_true)\n",
        "\n",
        "    @staticmethod\n",
        "    def accuracy(y_pred, y_true):\n",
        "        correct_predictions = 0\n",
        "        total = len(y_pred)\n",
        "        for i in range(total):\n",
        "          if y_pred[i] == y_true[i]:\n",
        "            correct_predictions += 1\n",
        "        accuracy = (correct_predictions/total)* 100\n",
        "        return accuracy\n",
        "\n",
        "    @staticmethod\n",
        "    def softmax(x):\n",
        "        denom = np.sum(np.exp(x))\n",
        "        softmax_array = np.divide(np.exp(x),denom)\n",
        "        return softmax_array\n",
        "\n",
        "    @staticmethod\n",
        "    def sigmoid(x):\n",
        "        denom = 1 + np.exp(-x)\n",
        "        return 1/denom\n",
        "\n",
        "    def __init__(self, nodes_per_layer):\n",
        "        '''Creates a Feed-Forward Neural Network.\n",
        "        The parameters represent the number of nodes in each layer. \n",
        "        Look at the inputs to the function, and use 'try and accept'\n",
        "        to catch errors if number of layers are < 2.\n",
        "        '''\n",
        "        \n",
        "        if len(nodes_per_layer)<4:\n",
        "          raise Exception (\"Sorry, not enough hidden layers\")\n",
        "        self.num_layers = len(nodes_per_layer) # including input and output layers\n",
        "        self.nodes_per_layer = nodes_per_layer\n",
        "        self.input_shape = nodes_per_layer[0]\n",
        "        self.output_shape = nodes_per_layer[-1]\n",
        "\n",
        "        self.weights_ = []\n",
        "        self.biases_ = []\n",
        "        self.__init_weights(nodes_per_layer)\n",
        "\n",
        "    def __init_weights(self, nodes_per_layer):\n",
        "        '''Initializes all weights based on standard normal distribution and all biases to 0.'''\n",
        "        '''Initialize weights for each layer except the input layer, since it does not have weights.'''\n",
        "        \n",
        "        for i in range(len(nodes_per_layer)-1):\n",
        "          temp_weights = np.random.normal(size=(nodes_per_layer[i],nodes_per_layer[i+1]))\n",
        "          self.weights_.append(temp_weights)\n",
        "          temp_biases = np.zeros(shape=(nodes_per_layer[i+1]),)\n",
        "          self.biases_.append(temp_biases)\n",
        "       \n",
        "    \n",
        "    def forward_pass(self, input_data):\n",
        "        '''Executes the feed forward algorithm.\n",
        "        \"input_data\" is the input to the network in row-major form\n",
        "        Returns \"activations\", which is a list of all layer outputs (excluding input layer of course)'''\n",
        "        \n",
        "        activations = []\n",
        "        input = input_data[0]\n",
        "\n",
        "        #hidden_layers\n",
        "        for i in range(len(self.weights_)-1):\n",
        "          aggregate = np.dot(input,self.weights_[i]) + self.biases_[i]\n",
        "          activation = self.sigmoid(aggregate)\n",
        "          \n",
        "          activations.append(activation)\n",
        "          input = activation\n",
        "\n",
        "        #output layer\n",
        "        input = activations[-1]\n",
        "        aggregate = np.dot(input,self.weights_[-1]) + self.biases_[-1]\n",
        "        activation = self.softmax(aggregate)\n",
        "        activations.append(activation)\n",
        "              \n",
        "        return activations\n",
        "\n",
        "    def sigmoid_derivative(self, x):\n",
        "      return x*(1-x)\n",
        "     \n",
        "    def backward_pass(self, targets, layer_activations):\n",
        "        '''Executes the backpropogation algorithm.\n",
        "        \"targets\" is the ground truth/labels\n",
        "        \"layer_activations\" are the return value of the forward pass step\n",
        "        Returns \"deltas\", which is a list containing weight update values for all layers (excluding the input layer of course)'''\n",
        "        \n",
        "        deltas = []\n",
        "        deltas_weights = []\n",
        "        deltas_biases = []\n",
        "        #output_layer\n",
        "        layer_activations = np.array(layer_activations) \n",
        "        l_activations = layer_activations.copy()\n",
        "        l_activations = np.flip(l_activations)\n",
        "\n",
        "        error_in_output_layer =  l_activations[0] - targets\n",
        "        d_error_wrt_w_o = np.dot( np.reshape(l_activations[1],(len(l_activations[1]),1)) , error_in_output_layer)\n",
        "        delta_for_w_o = d_error_wrt_w_o\n",
        "        delta_for_b_o = np.transpose(error_in_output_layer)\n",
        "\n",
        "        deltas_weights.append(delta_for_w_o)\n",
        "        deltas_biases.append(delta_for_b_o)\n",
        "\n",
        "        #hidden_layer\n",
        "        error_in_next_layer = error_in_output_layer[0]\n",
        "        weights = self.weights_.copy()\n",
        "        weights.reverse()\n",
        "        \n",
        "        for i in range(self.num_layers-2): \n",
        "          error_in_next_layer = np.reshape(error_in_next_layer, (len(error_in_next_layer),1) )\n",
        "          error_in_hidden_layer = np.dot( weights[i] , error_in_next_layer ) * self.sigmoid_derivative( np.reshape(l_activations[i+1],(len(l_activations[i+1]),1)) )\n",
        "\n",
        "          if i == (self.num_layers-3): #as we dont have input for first hidden layer\n",
        "            delta_for_w_h = error_in_hidden_layer\n",
        "            delta_for_b_h = error_in_hidden_layer\n",
        "            deltas_weights.append(delta_for_w_h)\n",
        "            deltas_biases.append(delta_for_b_h)\n",
        "            break\n",
        "          \n",
        "          delta_for_w_h = np.dot( np.reshape(l_activations[i+2],(len(l_activations[i+2]),1)) , np.transpose(error_in_hidden_layer))\n",
        "          delta_for_b_h = error_in_hidden_layer\n",
        "\n",
        "          deltas_weights.append(delta_for_w_h)\n",
        "          deltas_biases.append(delta_for_b_h)\n",
        "       \n",
        "          error_in_next_layer = error_in_hidden_layer\n",
        "        \n",
        "        \n",
        "        deltas.append(deltas_weights)\n",
        "        deltas.append(deltas_biases)\n",
        "        return deltas\n",
        "    \n",
        "    def weight_update(self, deltas, layer_inputs, lr):\n",
        "        '''Executes the gradient descent algorithm.\n",
        "        \"deltas\" is return value of the backward pass step\n",
        "        \"layer_inputs\" is a list containing the inputs for all layers (including the input layer)\n",
        "        \"lr\" is the learning rate'''\n",
        "        \n",
        "        delta_weights = deltas[0] # [wo,wh3,wh2,wh1]\n",
        "        delta_biases = deltas[1] # [b0,bh3,bh2,bh1]\n",
        "        \n",
        "        delta_weights[-1] = np.transpose( np.dot( delta_weights[-1] , layer_inputs[0]) )\n",
        "        \n",
        "        delta_weights.reverse()\n",
        "        delta_biases.reverse()\n",
        "\n",
        "        for i in range(len(delta_biases)):\n",
        "          \n",
        "          delta_biases[i] = np.transpose(delta_biases[i])[0]\n",
        "\n",
        "        \n",
        "        for w in range(len(self.weights_)):\n",
        "          self.weights_[w] = self.weights_[w] - ( lr*delta_weights[w] )\n",
        "          self.biases_[w] = self.biases_[w] - ( lr*delta_biases[w] )\n",
        "    \n",
        "    def fit(self, Xs, Ys, epochs, lr=1e-3):\n",
        "            history = []\n",
        "            for epoch in tqdm_notebook(range(epochs)):\n",
        "                num_samples = Xs.shape[0]\n",
        "                for i in range(num_samples):\n",
        "\n",
        "                    sample_input = Xs[i,:].reshape((1,self.input_shape))\n",
        "                    sample_target = Ys[i,:].reshape((1,self.output_shape))\n",
        "                    \n",
        "                    activations = self.forward_pass(sample_input)   # Call forward_pass function \n",
        "                    deltas = self.backward_pass(sample_target, activations)    # Call backward_pass function \n",
        "                    layer_inputs = [sample_input] + activations[:-1]\n",
        "                    \n",
        "                    # Call weight_update function \n",
        "                    self.weight_update(deltas, layer_inputs, lr)\n",
        "                \n",
        "                preds = self.predict(Xs)   # Call predict function \n",
        "\n",
        "                current_loss = self.cross_entropy_loss(preds, Ys)\n",
        "                \n",
        "                if  epoch==epochs-1:\n",
        "                  confusion_mat=confusion_matrix(Ys.argmax(axis=1), preds.argmax(axis=1),labels=np.arange(10))  \n",
        "                  plot_confusion_matrix(confusion_mat)\n",
        "                  report = classification_report(Ys, np_utils.to_categorical(preds.argmax(axis=1),num_classes=classes), target_names=class_labels)\n",
        "                  print(report)\n",
        "                history.append(current_loss)\n",
        "            return history\n",
        "    \n",
        "    def predict(self, Xs):\n",
        "        '''Returns the model predictions (output of the last layer) for the given \"Xs\".'''\n",
        "        predictions = []\n",
        "        num_samples = Xs.shape[0]\n",
        "        for i in range(num_samples):\n",
        "            sample = Xs[i,:].reshape((1,self.input_shape))\n",
        "            sample_prediction = self.forward_pass(sample)[-1]\n",
        "            predictions.append(sample_prediction.reshape((self.output_shape,)))\n",
        "        return np.array(predictions)\n",
        "    \n",
        "    def evaluate(self, Xs, Ys):\n",
        "        '''Returns appropriate metrics for the task, calculated on the dataset passed to this method.'''\n",
        "        pred = self.predict(Xs)\n",
        "        return self.cross_entropy_loss(pred, Ys), self.accuracy(pred.argmax(axis=1), Ys.argmax(axis=1))\n",
        "    \n",
        "    def plot_model(self, filename):\n",
        "        '''Provide the \"filename\" as a string including file extension. Creates an image showing the model as a graph.'''\n",
        "        graph = pydot.Dot(graph_type='digraph')\n",
        "        graph.set_rankdir('LR')\n",
        "        graph.set_node_defaults(shape='circle', fontsize=0)\n",
        "        nodes_per_layer = [self.input_shape, self.hidden_shape, self.output_shape]\n",
        "        for i in range(self.num_layers-1):\n",
        "            for n1 in range(nodes_per_layer[i]):\n",
        "                for n2 in range(nodes_per_layer[i+1]):\n",
        "                    edge = pydot.Edge(f'l{i}n{n1}', f'l{i+1}n{n2}')\n",
        "                    graph.add_edge(edge)\n",
        "        graph.write_png(filename)"
      ]
    },
    {
      "cell_type": "code",
      "execution_count": 9,
      "metadata": {
        "id": "Ew6nN0HyfbSd"
      },
      "outputs": [],
      "source": [
        "# These are what we call the hyperparameters\n",
        "EPOCH = 25           # must be an int\n",
        "LEARNING_RATE = 0.001\n",
        "nodes_per_layer = [784, 60, 50, 40, 30, 10]  #int values for nodes of each layer. # of hidden layers >= 2. "
      ]
    },
    {
      "cell_type": "code",
      "execution_count": 10,
      "metadata": {
        "colab": {
          "base_uri": "https://localhost:8080/",
          "height": 1000,
          "referenced_widgets": [
            "1186459d5fc94a0f8598c448d5756f9d",
            "528961d9044449b9b44de9fe5ff534dc",
            "16c9ad9fd99541cbbf047691e4a632ee",
            "12e8f9784b2b422581b5784d61c89247",
            "5d644d41c91a44df8a63b1390d10ea4c",
            "5da24c7b768848efab0d9bb8ba4f246a",
            "40df291cb36442529d5f17e69dded5f4",
            "33ba472c93a54965911d92d44b6e4fef",
            "3eb35bab649b426cbf060db050e859fd",
            "f06cf74ca4824d84900abcdb6da0dd5e",
            "68539829c126498db8d7e0fb449e99d1"
          ]
        },
        "id": "z6TTr8h1fo4l",
        "outputId": "7b8bb4b9-d533-4d1f-cb9c-eddbde0746f2"
      },
      "outputs": [
        {
          "name": "stderr",
          "output_type": "stream",
          "text": [
            "/usr/local/lib/python3.7/dist-packages/ipykernel_launcher.py:173: TqdmDeprecationWarning: This function will be removed in tqdm==5.0.0\n",
            "Please use `tqdm.notebook.tqdm` instead of `tqdm.tqdm_notebook`\n"
          ]
        },
        {
          "data": {
            "application/vnd.jupyter.widget-view+json": {
              "model_id": "1186459d5fc94a0f8598c448d5756f9d",
              "version_major": 2,
              "version_minor": 0
            },
            "text/plain": [
              "  0%|          | 0/50 [00:00<?, ?it/s]"
            ]
          },
          "metadata": {},
          "output_type": "display_data"
        },
        {
          "name": "stderr",
          "output_type": "stream",
          "text": [
            "/usr/local/lib/python3.7/dist-packages/ipykernel_launcher.py:103: VisibleDeprecationWarning: Creating an ndarray from ragged nested sequences (which is a list-or-tuple of lists-or-tuples-or ndarrays with different lengths or shapes) is deprecated. If you meant to do this, you must specify 'dtype=object' when creating the ndarray.\n"
          ]
        },
        {
          "data": {
            "image/png": "[encoded data removed]",
            "text/plain": [
              "<Figure size 1080x648 with 2 Axes>"
            ]
          },
          "metadata": {},
          "output_type": "display_data"
        },
        {
          "name": "stdout",
          "output_type": "stream",
          "text": [
            "                precision    recall  f1-score   support\n",
            "\n",
            "   T-shirt/top       0.76      0.86      0.80      6000\n",
            " Trouser/pants       0.98      0.97      0.97      6000\n",
            "Pullover shirt       0.77      0.76      0.76      6000\n",
            "         Dress       0.83      0.90      0.87      6000\n",
            "          Coat       0.73      0.82      0.77      6000\n",
            "        Sandal       0.94      0.94      0.94      6000\n",
            "         Shirt       0.74      0.48      0.58      6000\n",
            "       Sneaker       0.93      0.91      0.92      6000\n",
            "           Bag       0.94      0.96      0.95      6000\n",
            "    Ankle boot       0.93      0.95      0.94      6000\n",
            "\n",
            "     micro avg       0.86      0.86      0.86     60000\n",
            "     macro avg       0.85      0.86      0.85     60000\n",
            "  weighted avg       0.85      0.86      0.85     60000\n",
            "   samples avg       0.86      0.86      0.86     60000\n",
            "\n",
            "Runtime of the algorithm is  2395.245  seconds\n",
            "(0.47676387313287294, 82.89999999999999)\n"
          ]
        },
        {
          "data": {
            "image/png": "[encoded data removed]",
            "text/plain": [
              "<Figure size 576x396 with 1 Axes>"
            ]
          },
          "metadata": {},
          "output_type": "display_data"
        }
      ],
      "source": [
        "start = time.time()\n",
        "\n",
        "# Instantiate the neural network with the number of nodes you choose per layer, right now it is done for three layers only.\n",
        "nn = NeuralNetwork(nodes_per_layer=nodes_per_layer)\n",
        "history = nn.fit(trainX, trainY, epochs=EPOCH, lr=LEARNING_RATE)\n",
        "plt.plot(history);\n",
        "plt.gca().set(xlabel='Epoch', ylabel='Cross-entropy', title='Training Plot {}'.format(rollnumber));\n",
        "end = time.time()\n",
        "\n",
        "print(\"Runtime of the algorithm is \", round((end - start),3),\" seconds\")\n",
        "\n",
        "# print accuracy on test set here\n",
        "print(nn.evaluate(x_test,y_test))"
      ]
    },
    {
      "cell_type": "markdown",
      "metadata": {
        "id": "uXdl3d98idec"
      },
      "source": [
        "#### <b>PART 2</b>\n",
        "\n",
        "Now that the NN model has been replicated and trained, we move on to the actual part of this phase i.e. making our own dataset. The instruction for creating your own dataset are as follows:\n",
        "\n",
        "- Each group has to create a dataset of 50 images (preferred way to go about this is that each member takes 10 pictures for the dataset)\n",
        "- Make sure that all the classes/categories that are there in the Fashion MNIST dataset are covered in these 50 pictures. \n",
        "- Make sure that that there is no class imbalance in your dataset. Class imbalance is when one or more classes have more images/data than others\n",
        "- Once done with taking the pictures, add them into folders where the name of the folder will be the label of that image (for reference, you can have a look at how phase 1's dataset was organized as you essentially have to replicate that directory tree with the only difference is that there will only be `test` folder as this dataset is only being used for evaluation purposes)\n",
        "- Zip the dataset and upload it on your Google Drive. You will have to mount your drive and import your dataset in the same way as it was done in phase 1\n",
        "\n",
        "Once done, you will be reading the your dataset in the notebook and storing it in variables (please make sure that you are not overwriting any variable from Part 1). This will be followed by preprocessing that you will have to do on the images an finally, you will be able to evalute your model \n",
        "\n",
        "<b>Note: It is important that you know the classes/categories, shape and other information regarding the Fashion MNIST dataset on which your model is trained because for your own dataset, you will have to generate the data/images such that they are inline with those same properties and classes otherwise your network will make a lot of misclassifications. You can read up on the Fashion MNIST dataset [here](https://www.kaggle.com/zalando-research/fashionmnist): to familiarize yourself with the dataset</b>"
      ]
    },
    {
      "cell_type": "code",
      "execution_count": 11,
      "metadata": {
        "colab": {
          "base_uri": "https://localhost:8080/"
        },
        "id": "YIRg28XDmf4K",
        "outputId": "ec521190-dc87-4d3c-a3d4-f785f562cdb2"
      },
      "outputs": [
        {
          "name": "stdout",
          "output_type": "stream",
          "text": [
            "Drive already mounted at /drive; to attempt to forcibly remount, call drive.mount(\"/drive\", force_remount=True).\n"
          ]
        }
      ],
      "source": [
        "# %rm -rf </content/data/test/>\n",
        "\n",
        "# Mounting Google Drive here\n",
        "drive.mount('/drive')\n",
        "\n",
        "# Edit this address so that it points to the dataset's zipped file on your Google Drive\n",
        "!unzip -o -q \"/drive/MyDrive/myDataSet.zip\" -d \"/content/data/\""
      ]
    },
    {
      "cell_type": "code",
      "execution_count": 12,
      "metadata": {
        "colab": {
          "base_uri": "https://localhost:8080/"
        },
        "id": "j0ll0f79mqPY",
        "outputId": "2b5dc87a-4777-4700-aacc-5c01a8760607"
      },
      "outputs": [
        {
          "name": "stdout",
          "output_type": "stream",
          "text": [
            "Number of images in the dataset:  50\n"
          ]
        }
      ],
      "source": [
        "classes = 10  # do not change this\n",
        "my_X_test = None   # you must store the test images of your dataset in this varaible\n",
        "my_y_test = None   # you must store the test images' labels of your dataset in this varaible\n",
        "\n",
        "from google.colab.patches import cv2_imshow\n",
        "\n",
        "'''Please note that you will have to extarct and one-hot encode the labels of the images for my_y_test'''\n",
        "my_X_test = []\n",
        "my_y_test = []\n",
        "\n",
        "class_labels = ['T-shirt','Trouser','Pullover shirt','Dress','Coat','Sandal','Shirt','Sneaker','Bag','Ankle boot']\n",
        "\n",
        "for folder in glob.glob('/content/data/test/*/'):\n",
        "  label = folder[19:-1]\n",
        "  # print(label)\n",
        "  string = folder +'/*.png'\n",
        "  for img in glob.glob(string):\n",
        "    \n",
        "    n= cv2.imread(img,cv2.IMREAD_GRAYSCALE)\n",
        "    # cv2_imshow(n)\n",
        "    \n",
        "    my_X_test.append(n)\n",
        "    my_y_test.append(class_labels.index(label))\n",
        "\n",
        "my_y_test = np_utils.to_categorical(my_y_test)\n",
        "\n",
        "print(\"Number of images in the dataset: \", len(my_X_test))    # You can change len(X_test) based on your implementation such that total number of test samples is printed"
      ]
    },
    {
      "cell_type": "markdown",
      "metadata": {
        "id": "u3zn9yeBnCSZ"
      },
      "source": [
        "Now you have to do the preprocessing of the images such that they are inline with the image properties of the images of Fashion MNIST dataset. This is the core task of this phase and completely dependent on your own research on preprocessing of data\n",
        "\n",
        "<b>HINT: Data Normalization is one of the ways the data is preprocessed</b>"
      ]
    },
    {
      "cell_type": "code",
      "execution_count": 13,
      "metadata": {
        "id": "jCYWtB7Fm_Wt"
      },
      "outputs": [],
      "source": [
        "'''Do data preprocessing here. Whatever you do here, please make sure that at the very end your images are in my_X_test and labels are in my_y_test'''\n",
        "# We have already converted the rgb images into grayscale when reading them using cv2\n",
        "# Our pictures were already 28x28 pixels when we uploaded them to the drive.\n",
        "\n",
        "# Turning the white background black\n",
        "for x in my_X_test:\n",
        "  white_pixels = np.where(x[:] > 230)\n",
        "  x[white_pixels] = 0\n",
        "  \n",
        "my_X_test = np.array(my_X_test)\n",
        "my_X_test = my_X_test/255.0\n",
        "my_X_test = my_X_test.reshape(len(my_X_test),784)"
      ]
    },
    {
      "cell_type": "code",
      "execution_count": 14,
      "metadata": {
        "colab": {
          "base_uri": "https://localhost:8080/"
        },
        "id": "8oab3cwsoBat",
        "outputId": "2a9b5498-0677-49a2-94c4-0544aa8eb979"
      },
      "outputs": [
        {
          "name": "stdout",
          "output_type": "stream",
          "text": [
            "(2.431931898845253, 50.0)\n"
          ]
        }
      ],
      "source": [
        "print(nn.evaluate(my_X_test,my_y_test))"
      ]
    }
  ],
  "metadata": {
    "colab": {
      "collapsed_sections": [],
      "name": "group10_Phase3.ipynb",
      "provenance": []
    },
    "kernelspec": {
      "display_name": "Python 3",
      "name": "python3"
    },
    "language_info": {
      "name": "python"
    },
    "widgets": {
      "application/vnd.jupyter.widget-state+json": {
        "1186459d5fc94a0f8598c448d5756f9d": {
          "model_module": "@jupyter-widgets/controls",
          "model_module_version": "1.5.0",
          "model_name": "HBoxModel",
          "state": {
            "_dom_classes": [],
            "_model_module": "@jupyter-widgets/controls",
            "_model_module_version": "1.5.0",
            "_model_name": "HBoxModel",
            "_view_count": null,
            "_view_module": "@jupyter-widgets/controls",
            "_view_module_version": "1.5.0",
            "_view_name": "HBoxView",
            "box_style": "",
            "children": [
              "IPY_MODEL_528961d9044449b9b44de9fe5ff534dc",
              "IPY_MODEL_16c9ad9fd99541cbbf047691e4a632ee",
              "IPY_MODEL_12e8f9784b2b422581b5784d61c89247"
            ],
            "layout": "IPY_MODEL_5d644d41c91a44df8a63b1390d10ea4c"
          }
        },
        "12e8f9784b2b422581b5784d61c89247": {
          "model_module": "@jupyter-widgets/controls",
          "model_module_version": "1.5.0",
          "model_name": "HTMLModel",
          "state": {
            "_dom_classes": [],
            "_model_module": "@jupyter-widgets/controls",
            "_model_module_version": "1.5.0",
            "_model_name": "HTMLModel",
            "_view_count": null,
            "_view_module": "@jupyter-widgets/controls",
            "_view_module_version": "1.5.0",
            "_view_name": "HTMLView",
            "description": "",
            "description_tooltip": null,
            "layout": "IPY_MODEL_f06cf74ca4824d84900abcdb6da0dd5e",
            "placeholder": "​",
            "style": "IPY_MODEL_68539829c126498db8d7e0fb449e99d1",
            "value": " 50/50 [39:55&lt;00:00, 47.49s/it]"
          }
        },
        "16c9ad9fd99541cbbf047691e4a632ee": {
          "model_module": "@jupyter-widgets/controls",
          "model_module_version": "1.5.0",
          "model_name": "FloatProgressModel",
          "state": {
            "_dom_classes": [],
            "_model_module": "@jupyter-widgets/controls",
            "_model_module_version": "1.5.0",
            "_model_name": "FloatProgressModel",
            "_view_count": null,
            "_view_module": "@jupyter-widgets/controls",
            "_view_module_version": "1.5.0",
            "_view_name": "ProgressView",
            "bar_style": "success",
            "description": "",
            "description_tooltip": null,
            "layout": "IPY_MODEL_33ba472c93a54965911d92d44b6e4fef",
            "max": 50,
            "min": 0,
            "orientation": "horizontal",
            "style": "IPY_MODEL_3eb35bab649b426cbf060db050e859fd",
            "value": 50
          }
        },
        "33ba472c93a54965911d92d44b6e4fef": {
          "model_module": "@jupyter-widgets/base",
          "model_module_version": "1.2.0",
          "model_name": "LayoutModel",
          "state": {
            "_model_module": "@jupyter-widgets/base",
            "_model_module_version": "1.2.0",
            "_model_name": "LayoutModel",
            "_view_count": null,
            "_view_module": "@jupyter-widgets/base",
            "_view_module_version": "1.2.0",
            "_view_name": "LayoutView",
            "align_content": null,
            "align_items": null,
            "align_self": null,
            "border": null,
            "bottom": null,
            "display": null,
            "flex": null,
            "flex_flow": null,
            "grid_area": null,
            "grid_auto_columns": null,
            "grid_auto_flow": null,
            "grid_auto_rows": null,
            "grid_column": null,
            "grid_gap": null,
            "grid_row": null,
            "grid_template_areas": null,
            "grid_template_columns": null,
            "grid_template_rows": null,
            "height": null,
            "justify_content": null,
            "justify_items": null,
            "left": null,
            "margin": null,
            "max_height": null,
            "max_width": null,
            "min_height": null,
            "min_width": null,
            "object_fit": null,
            "object_position": null,
            "order": null,
            "overflow": null,
            "overflow_x": null,
            "overflow_y": null,
            "padding": null,
            "right": null,
            "top": null,
            "visibility": null,
            "width": null
          }
        },
        "3eb35bab649b426cbf060db050e859fd": {
          "model_module": "@jupyter-widgets/controls",
          "model_module_version": "1.5.0",
          "model_name": "ProgressStyleModel",
          "state": {
            "_model_module": "@jupyter-widgets/controls",
            "_model_module_version": "1.5.0",
            "_model_name": "ProgressStyleModel",
            "_view_count": null,
            "_view_module": "@jupyter-widgets/base",
            "_view_module_version": "1.2.0",
            "_view_name": "StyleView",
            "bar_color": null,
            "description_width": ""
          }
        },
        "40df291cb36442529d5f17e69dded5f4": {
          "model_module": "@jupyter-widgets/controls",
          "model_module_version": "1.5.0",
          "model_name": "DescriptionStyleModel",
          "state": {
            "_model_module": "@jupyter-widgets/controls",
            "_model_module_version": "1.5.0",
            "_model_name": "DescriptionStyleModel",
            "_view_count": null,
            "_view_module": "@jupyter-widgets/base",
            "_view_module_version": "1.2.0",
            "_view_name": "StyleView",
            "description_width": ""
          }
        },
        "528961d9044449b9b44de9fe5ff534dc": {
          "model_module": "@jupyter-widgets/controls",
          "model_module_version": "1.5.0",
          "model_name": "HTMLModel",
          "state": {
            "_dom_classes": [],
            "_model_module": "@jupyter-widgets/controls",
            "_model_module_version": "1.5.0",
            "_model_name": "HTMLModel",
            "_view_count": null,
            "_view_module": "@jupyter-widgets/controls",
            "_view_module_version": "1.5.0",
            "_view_name": "HTMLView",
            "description": "",
            "description_tooltip": null,
            "layout": "IPY_MODEL_5da24c7b768848efab0d9bb8ba4f246a",
            "placeholder": "​",
            "style": "IPY_MODEL_40df291cb36442529d5f17e69dded5f4",
            "value": "100%"
          }
        },
        "5d644d41c91a44df8a63b1390d10ea4c": {
          "model_module": "@jupyter-widgets/base",
          "model_module_version": "1.2.0",
          "model_name": "LayoutModel",
          "state": {
            "_model_module": "@jupyter-widgets/base",
            "_model_module_version": "1.2.0",
            "_model_name": "LayoutModel",
            "_view_count": null,
            "_view_module": "@jupyter-widgets/base",
            "_view_module_version": "1.2.0",
            "_view_name": "LayoutView",
            "align_content": null,
            "align_items": null,
            "align_self": null,
            "border": null,
            "bottom": null,
            "display": null,
            "flex": null,
            "flex_flow": null,
            "grid_area": null,
            "grid_auto_columns": null,
            "grid_auto_flow": null,
            "grid_auto_rows": null,
            "grid_column": null,
            "grid_gap": null,
            "grid_row": null,
            "grid_template_areas": null,
            "grid_template_columns": null,
            "grid_template_rows": null,
            "height": null,
            "justify_content": null,
            "justify_items": null,
            "left": null,
            "margin": null,
            "max_height": null,
            "max_width": null,
            "min_height": null,
            "min_width": null,
            "object_fit": null,
            "object_position": null,
            "order": null,
            "overflow": null,
            "overflow_x": null,
            "overflow_y": null,
            "padding": null,
            "right": null,
            "top": null,
            "visibility": null,
            "width": null
          }
        },
        "5da24c7b768848efab0d9bb8ba4f246a": {
          "model_module": "@jupyter-widgets/base",
          "model_module_version": "1.2.0",
          "model_name": "LayoutModel",
          "state": {
            "_model_module": "@jupyter-widgets/base",
            "_model_module_version": "1.2.0",
            "_model_name": "LayoutModel",
            "_view_count": null,
            "_view_module": "@jupyter-widgets/base",
            "_view_module_version": "1.2.0",
            "_view_name": "LayoutView",
            "align_content": null,
            "align_items": null,
            "align_self": null,
            "border": null,
            "bottom": null,
            "display": null,
            "flex": null,
            "flex_flow": null,
            "grid_area": null,
            "grid_auto_columns": null,
            "grid_auto_flow": null,
            "grid_auto_rows": null,
            "grid_column": null,
            "grid_gap": null,
            "grid_row": null,
            "grid_template_areas": null,
            "grid_template_columns": null,
            "grid_template_rows": null,
            "height": null,
            "justify_content": null,
            "justify_items": null,
            "left": null,
            "margin": null,
            "max_height": null,
            "max_width": null,
            "min_height": null,
            "min_width": null,
            "object_fit": null,
            "object_position": null,
            "order": null,
            "overflow": null,
            "overflow_x": null,
            "overflow_y": null,
            "padding": null,
            "right": null,
            "top": null,
            "visibility": null,
            "width": null
          }
        },
        "68539829c126498db8d7e0fb449e99d1": {
          "model_module": "@jupyter-widgets/controls",
          "model_module_version": "1.5.0",
          "model_name": "DescriptionStyleModel",
          "state": {
            "_model_module": "@jupyter-widgets/controls",
            "_model_module_version": "1.5.0",
            "_model_name": "DescriptionStyleModel",
            "_view_count": null,
            "_view_module": "@jupyter-widgets/base",
            "_view_module_version": "1.2.0",
            "_view_name": "StyleView",
            "description_width": ""
          }
        },
        "f06cf74ca4824d84900abcdb6da0dd5e": {
          "model_module": "@jupyter-widgets/base",
          "model_module_version": "1.2.0",
          "model_name": "LayoutModel",
          "state": {
            "_model_module": "@jupyter-widgets/base",
            "_model_module_version": "1.2.0",
            "_model_name": "LayoutModel",
            "_view_count": null,
            "_view_module": "@jupyter-widgets/base",
            "_view_module_version": "1.2.0",
            "_view_name": "LayoutView",
            "align_content": null,
            "align_items": null,
            "align_self": null,
            "border": null,
            "bottom": null,
            "display": null,
            "flex": null,
            "flex_flow": null,
            "grid_area": null,
            "grid_auto_columns": null,
            "grid_auto_flow": null,
            "grid_auto_rows": null,
            "grid_column": null,
            "grid_gap": null,
            "grid_row": null,
            "grid_template_areas": null,
            "grid_template_columns": null,
            "grid_template_rows": null,
            "height": null,
            "justify_content": null,
            "justify_items": null,
            "left": null,
            "margin": null,
            "max_height": null,
            "max_width": null,
            "min_height": null,
            "min_width": null,
            "object_fit": null,
            "object_position": null,
            "order": null,
            "overflow": null,
            "overflow_x": null,
            "overflow_y": null,
            "padding": null,
            "right": null,
            "top": null,
            "visibility": null,
            "width": null
          }
        }
      }
    }
  },
  "nbformat": 4,
  "nbformat_minor": 0
}
